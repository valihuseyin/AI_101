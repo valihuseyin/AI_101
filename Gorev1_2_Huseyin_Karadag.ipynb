{
  "nbformat": 4,
  "nbformat_minor": 0,
  "metadata": {
    "colab": {
      "provenance": [],
      "include_colab_link": true
    },
    "kernelspec": {
      "name": "python3",
      "display_name": "Python 3"
    },
    "language_info": {
      "name": "python"
    }
  },
  "cells": [
    {
      "cell_type": "markdown",
      "metadata": {
        "id": "view-in-github",
        "colab_type": "text"
      },
      "source": [
        "<a href=\"https://colab.research.google.com/github/valihuseyin/AI_101/blob/main/Gorev1_2_Huseyin_Karadag.ipynb\" target=\"_parent\"><img src=\"https://colab.research.google.com/assets/colab-badge.svg\" alt=\"Open In Colab\"/></a>"
      ]
    },
    {
      "cell_type": "markdown",
      "source": [
        "**1.\n",
        "Dörtgen, üçgen veya dairenin Alan hesabı. Kullanıcıdan en boy değerleri alınacak ve alan hesaplanacak.**"
      ],
      "metadata": {
        "id": "rAg5H9YoYySv"
      }
    },
    {
      "cell_type": "code",
      "source": [],
      "metadata": {
        "id": "C9NZiSfsYyB0"
      },
      "execution_count": null,
      "outputs": []
    },
    {
      "cell_type": "markdown",
      "source": [
        "**2. Girilen \"gün\", \"saat\", \"dakika\" ve \"saniye\" değerine göre, toplam saniyeyi hesaplayan bir uygulama yapınız.**"
      ],
      "metadata": {
        "id": "5gncL5MUYiXf"
      }
    },
    {
      "cell_type": "code",
      "source": [],
      "metadata": {
        "id": "DHSZCA1KYiME"
      },
      "execution_count": null,
      "outputs": []
    },
    {
      "cell_type": "markdown",
      "source": [
        "**3. Vücut Kitle Endeksini hesaplayan uygulamayı yapın (ağırlığın(kg) boyun karesine (m)bölümü)**"
      ],
      "metadata": {
        "id": "tbzq2ubIYeH5"
      }
    },
    {
      "cell_type": "code",
      "source": [],
      "metadata": {
        "id": "rYGujz-VYd4x"
      },
      "execution_count": null,
      "outputs": []
    },
    {
      "cell_type": "markdown",
      "source": [
        "**4. Restoran. Kullanıcı \"pizza\", \"burger\" veya \"salata\" seçeneklerinden birini seçecek. seçtiği menünün fiyatını bir değişkene atayacak. Bu fiyata %15 vergi oranı uygulayacak, %10 bahşiş ekleyecek ve toplam fiyat yazdırılacak.**"
      ],
      "metadata": {
        "id": "L4figayXYXe5"
      }
    },
    {
      "cell_type": "code",
      "source": [],
      "metadata": {
        "id": "VB1QiLO2YXRp"
      },
      "execution_count": null,
      "outputs": []
    },
    {
      "cell_type": "markdown",
      "source": [
        "**5. feet'i inch, yard, mil e çevirin.**"
      ],
      "metadata": {
        "id": "0W2pRsvWX5Bh"
      }
    },
    {
      "cell_type": "code",
      "source": [],
      "metadata": {
        "id": "cIWBXIDUX4vk"
      },
      "execution_count": null,
      "outputs": []
    },
    {
      "cell_type": "markdown",
      "source": [
        "**6. Kullanıcı bir kelime girecek, bu kelime \"tr\" ifadesi içeriyorsa \"kelime tr ifadesi içeriyor\" mesajı, içermiyorsa \"tr ifadesi içermiyor\" mesajı versin.**\n"
      ],
      "metadata": {
        "id": "ZR7uy5EQ81oq"
      }
    },
    {
      "cell_type": "code",
      "source": [],
      "metadata": {
        "id": "aIqjpcHT80hp"
      },
      "execution_count": null,
      "outputs": []
    },
    {
      "cell_type": "markdown",
      "source": [
        "**7. Kullanıcıdan iki kelime girdisi isteyeceksiniz. ikisinin aynı kelime olup olmadığını kıyaslayacaksınız.(kullanıcı ister büyük harfle girsin ister küçük. -lower)**"
      ],
      "metadata": {
        "id": "D5qr87tb83Ni"
      }
    },
    {
      "cell_type": "code",
      "source": [],
      "metadata": {
        "id": "Wh11kq0k9CzF"
      },
      "execution_count": null,
      "outputs": []
    },
    {
      "cell_type": "markdown",
      "source": [
        " **8. Herhangi  bir sayı girsin. Girdiği sayının 100 den büyük, küçük veya eşit olduğu mesajı verilsin.\n",
        "(tiplere dikkat)**"
      ],
      "metadata": {
        "id": "xfAmYAV2-O6f"
      }
    },
    {
      "cell_type": "code",
      "source": [],
      "metadata": {
        "id": "vE0p48ip-VXj"
      },
      "execution_count": null,
      "outputs": []
    },
    {
      "cell_type": "markdown",
      "source": [
        "**9. Kullanıcı yaşını girecek, 12 yaşa kadar- Çocuk, 13-19 yaş - Ergen, 20-30 yaş Genç yetişkin,\n",
        "30-64 yaş Yetişkin, 64 yaş üzeri olgun.**"
      ],
      "metadata": {
        "id": "Bf6SqbVH9Chh"
      }
    },
    {
      "cell_type": "code",
      "source": [],
      "metadata": {
        "id": "9XivzU7c-Zlz"
      },
      "execution_count": null,
      "outputs": []
    },
    {
      "cell_type": "markdown",
      "source": [
        "**10. Kullanıcı bir kelime girecek, sonu \"miş\" le mi bitiyor kontrol edilecek. mesaj yazdıracaksınız.**"
      ],
      "metadata": {
        "id": "Nry-NrXB-ciZ"
      }
    },
    {
      "cell_type": "code",
      "source": [],
      "metadata": {
        "id": "6hMRlHSn-e9N"
      },
      "execution_count": null,
      "outputs": []
    },
    {
      "cell_type": "markdown",
      "source": [
        " **11. Hesap makinesi. Kullanıcıdan hangi işlemi yapmak istediği metin olarak alınacak.\n",
        "\"bol\" \"carp\" gibi.**"
      ],
      "metadata": {
        "id": "gq8KyV2D-fLD"
      }
    },
    {
      "cell_type": "code",
      "source": [],
      "metadata": {
        "id": "ltk0OKTA-kfh"
      },
      "execution_count": null,
      "outputs": []
    },
    {
      "cell_type": "markdown",
      "source": [
        "**12. Uygulama\n",
        "Aslandan kaçma oyunu\n",
        "Bir aslanla karşılaştınız ne yapardınız?**\n",
        "\n",
        "\n",
        "> 1-Kaçardım\n",
        "\n",
        "> 2-Ağaca tırmanırdım\n",
        "\n",
        "1 seçeneği seçilirse\n",
        "\n",
        "  >  1-Nehire doğru\n",
        "\n",
        "  >  2-Otoyola doğru\n",
        "\n",
        "eğer burda\n",
        "\n",
        "> 1 seçilirse aslana yakalanacak,\n",
        "\n",
        "> 2 seçilirse aslandan kaçabilecek.\n",
        "\n",
        "2 seçeneği seçilirse\n",
        "  >  1-En yakın\n",
        "  >  2-Biraz daha uzak ama daha uzun\n",
        "\n",
        "\n",
        "eğer burada 1 seçeneği seçilirse aslan sizi yakalayacak."
      ],
      "metadata": {
        "id": "LHJ2g3h5-kww"
      }
    },
    {
      "cell_type": "code",
      "source": [],
      "metadata": {
        "id": "H04st55R_INT"
      },
      "execution_count": null,
      "outputs": []
    }
  ]
}