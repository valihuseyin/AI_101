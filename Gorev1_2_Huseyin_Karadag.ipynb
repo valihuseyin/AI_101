{
  "nbformat": 4,
  "nbformat_minor": 0,
  "metadata": {
    "colab": {
      "provenance": [],
      "include_colab_link": true
    },
    "kernelspec": {
      "name": "python3",
      "display_name": "Python 3"
    },
    "language_info": {
      "name": "python"
    }
  },
  "cells": [
    {
      "cell_type": "markdown",
      "metadata": {
        "id": "view-in-github",
        "colab_type": "text"
      },
      "source": [
        "<a href=\"https://colab.research.google.com/github/valihuseyin/AI_101/blob/main/Gorev1_2_Huseyin_Karadag.ipynb\" target=\"_parent\"><img src=\"https://colab.research.google.com/assets/colab-badge.svg\" alt=\"Open In Colab\"/></a>"
      ]
    },
    {
      "cell_type": "markdown",
      "source": [
        "**1.\n",
        "Dörtgen, üçgen veya dairenin Alan hesabı. Kullanıcıdan en boy değerleri alınacak ve alan hesaplanacak.**"
      ],
      "metadata": {
        "id": "rAg5H9YoYySv"
      }
    },
    {
      "cell_type": "code",
      "source": [
        "t = int(input(\"Alanını hesaplamak istediğiniz çokgen tipini Giriniz \\n Üçgen:1 \\n Dörtgen:2\\n Daire:3\\n\"))\n",
        "print(f\"Çokgen Tİpi: {t}\")\n",
        "\n",
        "if  t== 3:\n",
        "    pi = 3.14\n",
        "    r = int(input(\"Yarıçap Bilgisini Giriniz:\"))\n",
        "    print(f\"Dairenin alanı:{r**2 * pi}\")\n",
        "else :\n",
        "\n",
        "#take height\n",
        "    h = int(input(\"Yüksekliği Giriniz:\"))\n",
        "#print(f\"Yükseklik : {h}\")\n",
        "    l = int(input(\"En Uzunluğunu Giriniz:\"))\n",
        "#print(f\"En Uzunluğu: {l}\")\n",
        "\n",
        "    alan = 0\n",
        "    if t == 1:\n",
        "        alan = (l * h )/2\n",
        "        print(f\"Üçgenin alanı:{alan}\")\n",
        "    elif t == 2:\n",
        "        alan = l * h\n",
        "        print(f\"Dörtgenin alanı:{alan}\")"
      ],
      "metadata": {
        "id": "C9NZiSfsYyB0",
        "colab": {
          "base_uri": "https://localhost:8080/"
        },
        "outputId": "a53d0558-709a-4a0e-a83e-8c184b5fb85b"
      },
      "execution_count": 3,
      "outputs": [
        {
          "output_type": "stream",
          "name": "stdout",
          "text": [
            "Alanını hesaplamak istediğiniz çokgen tipini Giriniz \n",
            " Üçgen:1 \n",
            " Dörtgen:2\n",
            " Daire:3\n",
            "1\n",
            "Çokgen Tİpi: 1\n",
            "Yüksekliği Giriniz:6\n",
            "En Uzunluğunu Giriniz:3\n",
            "Üçgenin alanı:9.0\n"
          ]
        }
      ]
    },
    {
      "cell_type": "markdown",
      "source": [
        "**2. Girilen \"gün\", \"saat\", \"dakika\" ve \"saniye\" değerine göre, toplam saniyeyi hesaplayan bir uygulama yapınız.**"
      ],
      "metadata": {
        "id": "5gncL5MUYiXf"
      }
    },
    {
      "cell_type": "code",
      "source": [
        "#Girilen \"gün\", \"saat\", \"dakika\" ve \"saniye\" değerine göre, toplam saniyeyi hesaplayan bir uygulama yapınız\n",
        "print(\"Başlama\")\n",
        "gun = int(input(\"Gün bilgisini giriniz:\"))\n",
        "saat =int(input(\"Saat bilgisini giriniz:\"))\n",
        "dakika =int(input(\"Dakika bilgisini giriniz:\"))\n",
        "saniye =int(input(\"Saniye bilgisini giriniz:\"))\n",
        "print(f\"{gun} gün {saat} Saat {dakika} Dakika {saniye} Saniye \")\n",
        "#saniye += dakika *60\n",
        "dakika += saat * 60\n",
        "dakika += gun * 1440\n",
        "saniye += dakika * 60\n",
        "print(\"----------------------------------------------\")\n",
        "print(f\"Toplam Saniye: {saniye} dir\")"
      ],
      "metadata": {
        "id": "DHSZCA1KYiME",
        "colab": {
          "base_uri": "https://localhost:8080/"
        },
        "outputId": "a7b3d0c0-7891-43d5-e7f9-9bfcb2e856e8"
      },
      "execution_count": 2,
      "outputs": [
        {
          "output_type": "stream",
          "name": "stdout",
          "text": [
            "Başlama\n",
            "Gün bilgisini giriniz:10\n",
            "Saat bilgisini giriniz:10\n",
            "Dakika bilgisini giriniz:10\n",
            "Saniye bilgisini giriniz:10\n",
            "10 gün 10 Saat 10 Dakika 10 Saniye \n",
            "----------------------------------------------\n",
            "Toplam Saniye: 900610 dir\n"
          ]
        }
      ]
    },
    {
      "cell_type": "markdown",
      "source": [
        "**3. Vücut Kitle Endeksini hesaplayan uygulamayı yapın (ağırlığın(kg) boyun karesine (m)bölümü)**"
      ],
      "metadata": {
        "id": "tbzq2ubIYeH5"
      }
    },
    {
      "cell_type": "code",
      "source": [
        "#calculate body mass index\n",
        "def calculate_bmi(weight, height):\n",
        "    bmi = weight / (height ** 2)\n",
        "    return bmi\n",
        "def bmi_category(bmi):\n",
        "    if bmi < 18.5:\n",
        "        return \"Zayıf\"\n",
        "    elif 18.5 <= bmi < 24.9:\n",
        "        return \"Sağlıklı\"\n",
        "    elif 25 <= bmi < 29.9:\n",
        "        return \"Şişman\"\n",
        "    elif 30 <= bmi < 34.9:\n",
        "        return \"1. Derece Obez\"\n",
        "    elif 35 <= bmi < 39.9:\n",
        "        return \"2. Derece Obez\"\n",
        "    else :\n",
        "        return \"3. Derece Obez\"\n",
        "\n",
        "weight = float(input(\"Enter your weight in kg: \"))\n",
        "height = float(input(\"Enter your height in meters: \"))\n",
        "bmi = calculate_bmi(weight, height)\n",
        "category = bmi_category(bmi)\n",
        "print(f\"Vücut Kitle Endeksiniz: {bmi:.2f}\")\n",
        "print(f\"Girdiğiniz Sınıf: {category}\")"
      ],
      "metadata": {
        "id": "rYGujz-VYd4x",
        "colab": {
          "base_uri": "https://localhost:8080/"
        },
        "outputId": "ff09c8b5-e9d5-4559-a4e8-457b81c0c831"
      },
      "execution_count": 3,
      "outputs": [
        {
          "output_type": "stream",
          "name": "stdout",
          "text": [
            "Enter your weight in kg: 85\n",
            "Enter your height in meters: 1.70\n",
            "Vücut Kitle Endeksiniz: 29.41\n",
            "Girdiğiniz Sınıf: Şişman\n"
          ]
        }
      ]
    },
    {
      "cell_type": "markdown",
      "source": [
        "**4. Restoran. Kullanıcı \"pizza\", \"burger\" veya \"salata\" seçeneklerinden birini seçecek. seçtiği menünün fiyatını bir değişkene atayacak. Bu fiyata %15 vergi oranı uygulayacak, %10 bahşiş ekleyecek ve toplam fiyat yazdırılacak.**"
      ],
      "metadata": {
        "id": "L4figayXYXe5"
      }
    },
    {
      "cell_type": "code",
      "source": [
        "#restoran\n",
        "fiyatlar = {\"Pizza\": 250, \"Burger\": 350, \"Salata\": 100}\n",
        "vergiler={\"KDV\":0.15,\"Bahsis\":0.10}\n",
        "\n",
        "def menu():\n",
        "    print(\"----- Menü -----\")\n",
        "    print(\"1. Pizza - 250 TL\")\n",
        "    print(\"2. Burger - 350 TL\")\n",
        "    print(\"3. Salata - 100 TL\")\n",
        "    print(\"4. Çıkış\")\n",
        "    print(\"----------------\")\n",
        "    secim = input(\"Lütfen bir seçenek seçin (1-4): \")\n",
        "    return secim\n",
        "def hesapla_Fiyati(siparis):\n",
        "    toplam = fiyatlar[siparis]\n",
        "    toplam += toplam * 0.18  # Vergi ekle %15\n",
        "    for oran in vergiler.values():\n",
        "        toplam += toplam * oran\n",
        "    return toplam\n",
        "\n",
        "while True:\n",
        "    secim = menu()\n",
        "    if secim == \"4\":\n",
        "        print(\"Teşekkür ederiz....\")\n",
        "        print(\"Güle güle....\")\n",
        "        print(\"Yine bekleriz...\")\n",
        "        break\n",
        "    elif secim in [\"1\", \"2\", \"3\"]:\n",
        "        if secim == \"1\":\n",
        "            siparis = \"Pizza\"\n",
        "        elif secim == \"2\":\n",
        "            siparis = \"Burger\"\n",
        "        elif secim == \"3\":\n",
        "            siparis = \"Salata\"\n",
        "        toplam_fiyat = hesapla_Fiyati(siparis)\n",
        "        print(f\"{siparis} siparişiniz alındı. Toplam fiyat: {toplam_fiyat:.2f} TL\")\n",
        "    else:\n",
        "        print(\"Geçersiz seçim, lütfen tekrar deneyin.\")"
      ],
      "metadata": {
        "id": "VB1QiLO2YXRp",
        "colab": {
          "base_uri": "https://localhost:8080/"
        },
        "outputId": "53c35c76-3d0d-42cc-d564-f8669f5984a7"
      },
      "execution_count": 1,
      "outputs": [
        {
          "output_type": "stream",
          "name": "stdout",
          "text": [
            "----- Menü -----\n",
            "1. Pizza - 250 TL\n",
            "2. Burger - 350 TL\n",
            "3. Salata - 100 TL\n",
            "4. Çıkış\n",
            "----------------\n",
            "Lütfen bir seçenek seçin (1-4): 3\n",
            "Salata siparişiniz alındı. Toplam fiyat: 149.27 TL\n",
            "----- Menü -----\n",
            "1. Pizza - 250 TL\n",
            "2. Burger - 350 TL\n",
            "3. Salata - 100 TL\n",
            "4. Çıkış\n",
            "----------------\n",
            "Lütfen bir seçenek seçin (1-4): 4\n",
            "Teşekkür ederiz....\n",
            "Güle güle....\n",
            "Yine bekleriz...\n"
          ]
        }
      ]
    },
    {
      "cell_type": "markdown",
      "source": [
        "**5. feet'i inch, yard, mil e çevirin.**"
      ],
      "metadata": {
        "id": "0W2pRsvWX5Bh"
      }
    },
    {
      "cell_type": "code",
      "source": [
        "#convert from feet to inches\n",
        "def feetToInches(feet):\n",
        "    inches = feet * 12\n",
        "    return inches\n",
        "#convert from feet to yards\n",
        "def feetToYards(feet):\n",
        "    yards = feet / 3\n",
        "    return yards\n",
        "#convert from feet to miles\n",
        "def feetToMiles(feet):\n",
        "    miles = feet / 5280\n",
        "    return miles\n",
        "\n",
        "#take feet input from user\n",
        "def takeFeetInput():\n",
        "    feet = float(input(\"Enter the value in feet: \"))\n",
        "    return feet\n",
        "def printConversions(feet):\n",
        "    print(f\"{feet} feet is equal to {feetToInches(feet)} inches.\")\n",
        "    print(f\"{feet} feet is equal to {feetToYards(feet)} yards.\")\n",
        "    print(f\"{feet} feet is equal to {feetToMiles(feet)} miles.\")\n",
        "\n",
        "feet = takeFeetInput()\n",
        "printConversions(feet)\n"
      ],
      "metadata": {
        "id": "cIWBXIDUX4vk",
        "colab": {
          "base_uri": "https://localhost:8080/"
        },
        "outputId": "fa0b5564-8119-4a6e-e1a4-aa0035eeba8d"
      },
      "execution_count": 2,
      "outputs": [
        {
          "output_type": "stream",
          "name": "stdout",
          "text": [
            "Enter the value in feet: 100\n",
            "100.0 feet is equal to 1200.0 inches.\n",
            "100.0 feet is equal to 33.333333333333336 yards.\n",
            "100.0 feet is equal to 0.01893939393939394 miles.\n"
          ]
        }
      ]
    },
    {
      "cell_type": "markdown",
      "source": [
        "**6. Kullanıcı bir kelime girecek, bu kelime \"tr\" ifadesi içeriyorsa \"kelime tr ifadesi içeriyor\" mesajı, içermiyorsa \"tr ifadesi içermiyor\" mesajı versin.**\n"
      ],
      "metadata": {
        "id": "ZR7uy5EQ81oq"
      }
    },
    {
      "cell_type": "code",
      "source": [
        "#tr in a text\n",
        "def is_text_contains_word(text,word):\n",
        "    if word in text:\n",
        "        return True\n",
        "    return False\n",
        "\n",
        "text =input(\"Bir ifade giriniz:\")\n",
        "if is_text_contains_word(text,\"tr\"):\n",
        "    print(\"Kelime \\\"tr\\\" ifadesi içermektedir.\")\n",
        "else:\n",
        "    print(\"Kelime \\\"tr\\\" ifadesi içermemektedir.\")\n",
        "\n"
      ],
      "metadata": {
        "id": "aIqjpcHT80hp",
        "colab": {
          "base_uri": "https://localhost:8080/"
        },
        "outputId": "4ca18c5b-a085-42f1-ef68-a9219c2365ff"
      },
      "execution_count": 2,
      "outputs": [
        {
          "output_type": "stream",
          "name": "stdout",
          "text": [
            "Bir ifade giriniz:kalıntrk\n",
            "Kelime \"tr\" ifadesi içermektedir.\n"
          ]
        }
      ]
    },
    {
      "cell_type": "markdown",
      "source": [
        "**7. Kullanıcıdan iki kelime girdisi isteyeceksiniz. ikisinin aynı kelime olup olmadığını kıyaslayacaksınız.(kullanıcı ister büyük harfle girsin ister küçük. -lower)**"
      ],
      "metadata": {
        "id": "D5qr87tb83Ni"
      }
    },
    {
      "cell_type": "code",
      "source": [
        "#take tw0 words and compare them witout cae sensivitytivity\n",
        "def compareWords(word1, word2):\n",
        "    if word1.lower() == word2.lower():\n",
        "        return True\n",
        "    else:\n",
        "        return False\n",
        "\n",
        "word1 = input(\"1.Kelimeyi giriniz:\")\n",
        "word2 = input(\"2.Kelimeyi giriniz:\")\n",
        "if compareWords(word1,word2):\n",
        "    print(\"Kelimeler aynıdır.\")\n",
        "else:\n",
        "    print(\"Kelimeler farklıdır.\")\n"
      ],
      "metadata": {
        "id": "Wh11kq0k9CzF",
        "colab": {
          "base_uri": "https://localhost:8080/"
        },
        "outputId": "189b570c-8b3f-4d61-b158-be7b60ff4286"
      },
      "execution_count": 3,
      "outputs": [
        {
          "output_type": "stream",
          "name": "stdout",
          "text": [
            "1.Kelimeyi giriniz:Huseyin\n",
            "2.Kelimeyi giriniz:Karadağ\n",
            "Kelimeler farklıdır.\n"
          ]
        }
      ]
    },
    {
      "cell_type": "markdown",
      "source": [
        " **8. Herhangi  bir sayı girsin. Girdiği sayının 100 den büyük, küçük veya eşit olduğu mesajı verilsin.\n",
        "(tiplere dikkat)**"
      ],
      "metadata": {
        "id": "xfAmYAV2-O6f"
      }
    },
    {
      "cell_type": "code",
      "source": [
        "try:\n",
        "    user_input = int(input(\"Bir Sayı giriniz:\"))\n",
        "    if user_input > 100:\n",
        "        print(\"Girdiğiniz sayı 100 den büyüktür.\")\n",
        "    elif user_input < 100:\n",
        "        print(\"Girdiğiniz sayı 100 den küçüktür.\")\n",
        "    else:\n",
        "        print(\"Girdiğiniz sayı 100 e eşittir.\")\n",
        "except ValueError:\n",
        "    print(\"Girdiğiniz değer sayı değil.\")"
      ],
      "metadata": {
        "id": "vE0p48ip-VXj",
        "colab": {
          "base_uri": "https://localhost:8080/"
        },
        "collapsed": true,
        "outputId": "eb1d55ed-9936-42db-e439-14d0e98db1bf"
      },
      "execution_count": 3,
      "outputs": [
        {
          "output_type": "stream",
          "name": "stdout",
          "text": [
            "Bir Sayı giriniz:150\n",
            "Girdiğiniz sayı 100 den büyüktür.\n"
          ]
        }
      ]
    },
    {
      "cell_type": "markdown",
      "source": [
        "**9. Kullanıcı yaşını girecek, 12 yaşa kadar- Çocuk, 13-19 yaş - Ergen, 20-30 yaş Genç yetişkin,\n",
        "30-64 yaş Yetişkin, 64 yaş üzeri olgun.**"
      ],
      "metadata": {
        "id": "Bf6SqbVH9Chh"
      }
    },
    {
      "cell_type": "code",
      "source": [
        "def getAgeFromUser():\n",
        "    try:\n",
        "        age = int(input(\"Yaşınızı giriniz:\"))\n",
        "        return age\n",
        "    except ValueError:\n",
        "        print(\"Girdiğiniz yaş geçerli değil.\")\n",
        "        return 0\n",
        "\n",
        "def findAgeCategory(age):\n",
        "    if age == 0:\n",
        "       return \"Geçersiz yaş değeri\"\n",
        "    if 0< age <= 12:\n",
        "        return \"Çocuk\"\n",
        "    elif 13 <= age <= 19:\n",
        "        return \"Ergen\"\n",
        "    elif 20 <= age <= 30:\n",
        "        return \"Genç Yetişkin\"\n",
        "    elif 30 <= age <= 64:\n",
        "        return \"Yetişkin\"\n",
        "    return \"Olgun\"\n",
        "\n",
        "age = getAgeFromUser()\n",
        "category = findAgeCategory(age)\n",
        "print(f\"Girdiğiniz yaşın sınıfı: {category}\")\n"
      ],
      "metadata": {
        "id": "9XivzU7c-Zlz",
        "colab": {
          "base_uri": "https://localhost:8080/"
        },
        "outputId": "86919f73-6c3a-4b01-cb3c-04082885eaf4"
      },
      "execution_count": 7,
      "outputs": [
        {
          "output_type": "stream",
          "name": "stdout",
          "text": [
            "Yaşınızı giriniz:qw\n",
            "Girdiğiniz yaş geçerli değil.\n",
            "Girdiğiniz yaşın sınıfı: Geçersiz yaş değeri\n"
          ]
        }
      ]
    },
    {
      "cell_type": "markdown",
      "source": [
        "**10. Kullanıcı bir kelime girecek, sonu \"miş\" le mi bitiyor kontrol edilecek. mesaj yazdıracaksınız.**"
      ],
      "metadata": {
        "id": "Nry-NrXB-ciZ"
      }
    },
    {
      "cell_type": "code",
      "source": [
        "def kullanicidanBirKelimeAl():\n",
        "  kelime = input(\"Bir kelime giriniz: \")\n",
        "  return kelime\n",
        "\n",
        "def kelimeyiKontrolEt(kelime):\n",
        "  if kelime.endswith(\"miş\"):\n",
        "    return True\n",
        "  else:\n",
        "    return False\n",
        "\n",
        "kelime = kullanicidanBirKelimeAl()\n",
        "if kelimeyiKontrolEt(kelime):\n",
        "  print(\"Kelime \\\"miş\\\" ile bitiyor.\")\n",
        "else:\n",
        "  print(\"Kelime \\\"miş\\\" ile bitmiyor.\")"
      ],
      "metadata": {
        "id": "6hMRlHSn-e9N",
        "colab": {
          "base_uri": "https://localhost:8080/"
        },
        "outputId": "ef6c1997-6551-44e4-d603-e9369a53359a"
      },
      "execution_count": 9,
      "outputs": [
        {
          "output_type": "stream",
          "name": "stdout",
          "text": [
            "Bir kelime giriniz: Karadağ\n",
            "Kelime \"miş\" ile bitmiyor.\n"
          ]
        }
      ]
    },
    {
      "cell_type": "markdown",
      "source": [
        " **11. Hesap makinesi. Kullanıcıdan hangi işlemi yapmak istediği metin olarak alınacak.\n",
        "\"bol\" \"carp\" gibi.**"
      ],
      "metadata": {
        "id": "gq8KyV2D-fLD"
      }
    },
    {
      "cell_type": "code",
      "source": [
        "#Hesap Makinesi Uygulaması v1.0\n",
        "def islemTipiniAl():\n",
        "    print(\"Yapmak istediğiniz işlemi seçin:\")\n",
        "    print(\"------------------------------------\")\n",
        "    print(\"1. Toplama\")\n",
        "    print(\"2. Çıkarma\")\n",
        "    print(\"3. Çarpma\")\n",
        "    print(\"4. Bölme\")\n",
        "    print(\"------------------------------------\")\n",
        "    secim = input(\"Seçiminizi yapın (1/2/3/4): \")\n",
        "    print(\"------------------------------------\")\n",
        "    return secim\n",
        "def sayilariAl():\n",
        "    sayi1 = float(input(\"Birinci sayıyı girin: \"))\n",
        "    sayi2 = float(input(\"İkinci sayıyı girin: \"))\n",
        "    return sayi1, sayi2\n",
        "def topla(sayi1, sayi2):\n",
        "    return sayi1 + sayi2\n",
        "def cikar(sayi1, sayi2):\n",
        "    return sayi1 - sayi2\n",
        "def carp(sayi1, sayi2):\n",
        "    return sayi1 * sayi2\n",
        "def bol(sayi1, sayi2):\n",
        "    if sayi2 != 0:\n",
        "        return sayi1 / sayi2\n",
        "    else:\n",
        "        return \"Hata: Bir sayı sıfıra bölünemez.\"\n",
        "\n",
        "def hesapla(sayi1, sayi2, secim):\n",
        "    if secim == '1':\n",
        "        return topla(sayi1, sayi2)\n",
        "    elif secim == '2':\n",
        "        return cikar(sayi1, sayi2)\n",
        "    elif secim == '3':\n",
        "        return carp(sayi1, sayi2)\n",
        "    elif secim == '4':\n",
        "        return bol(sayi1, sayi2)\n",
        "    else:\n",
        "        return \"Geçersiz işlem seçimi.\"\n",
        "\n",
        "secim = islemTipiniAl()\n",
        "sayi1, sayi2 = sayilariAl()\n",
        "sonuc = hesapla(sayi1, sayi2, secim)\n",
        "print(f\"Sonuç: {sonuc}\")\n"
      ],
      "metadata": {
        "id": "ltk0OKTA-kfh",
        "colab": {
          "base_uri": "https://localhost:8080/"
        },
        "outputId": "11af33d0-010e-4662-b669-b7387e2ec762"
      },
      "execution_count": 10,
      "outputs": [
        {
          "output_type": "stream",
          "name": "stdout",
          "text": [
            "Yapmak istediğiniz işlemi seçin:\n",
            "------------------------------------\n",
            "1. Toplama\n",
            "2. Çıkarma\n",
            "3. Çarpma\n",
            "4. Bölme\n",
            "------------------------------------\n",
            "Seçiminizi yapın (1/2/3/4): 3\n",
            "------------------------------------\n",
            "Birinci sayıyı girin: 12\n",
            "İkinci sayıyı girin: 12\n",
            "Sonuç: 144.0\n"
          ]
        }
      ]
    },
    {
      "cell_type": "markdown",
      "source": [
        "**12. Uygulama\n",
        "Aslandan kaçma oyunu\n",
        "Bir aslanla karşılaştınız ne yapardınız?**\n",
        "\n",
        "\n",
        "> 1-Kaçardım\n",
        "\n",
        "> 2-Ağaca tırmanırdım\n",
        "\n",
        "1 seçeneği seçilirse\n",
        "\n",
        "  >  1-Nehire doğru\n",
        "\n",
        "  >  2-Otoyola doğru\n",
        "\n",
        "eğer burda\n",
        "\n",
        "> 1 seçilirse aslana yakalanacak,\n",
        "\n",
        "> 2 seçilirse aslandan kaçabilecek.\n",
        "\n",
        "2 seçeneği seçilirse\n",
        "  >  1-En yakın\n",
        "  >  2-Biraz daha uzak ama daha uzun\n",
        "\n",
        "\n",
        "eğer burada 1 seçeneği seçilirse aslan sizi yakalayacak."
      ],
      "metadata": {
        "id": "LHJ2g3h5-kww"
      }
    },
    {
      "cell_type": "code",
      "source": [
        "# run away from the lion\n",
        "def intro():\n",
        "    print(\"__________****************__________\")\n",
        "    print(\"Aslanlardan Kaçış Oyunu'na Hoş Geldiniz!\")\n",
        "    print(\"Bir ormanda mahsur kaldınız ve bir aslan ile karşılaştınız.\")\n",
        "    print(\"Amacınız aslandan kaçmak ve hayatta kalmak.\")\n",
        "    print(\"Ne yaprdınız\")\n",
        "    print(\"__________****************__________\")\n",
        "\n",
        "def printSecenekler():\n",
        "    print(\"1. Kaçardım\")\n",
        "    print(\"2. Ağaça tırmanırdım\")\n",
        "\n",
        "def printKacisSecenekeleri():\n",
        "        print(\"Kaçıyorsunuz...\")\n",
        "        print(\"Aslan sizi kovalıyor...\")\n",
        "        print(\"Ne tarafa doğru koşuyorsunuz?\")\n",
        "        print(\"1. Nehre doğru koşardım\")\n",
        "        print(\"2. Otoyola doğru koşardım\")\n",
        "def printAgacaTirmanisSecenekeleri():\n",
        "        print(\"Ağaça tırmanmaya karar verdiniz...\")\n",
        "        print(\"Hangi ağaça tırmanırdınız?\")\n",
        "        print(\"1. En yakın ağaça tırmanırdım\")\n",
        "        print(\"2. Biraz uzak ama daha uzun ağaça tırmanırdım\")\n",
        "\n",
        "def choose_path():\n",
        "    path = \"\"\n",
        "    while path not in [\"1\", \"2\"]:\n",
        "        path = input(\"Hangi yolu seçmek istersiniz? (1 veya 2): \")\n",
        "    return path\n",
        "def check_path(chosen_path):\n",
        "    if chosen_path == \"1\":\n",
        "        printKacisSecenekeleri()\n",
        "        chosen_path = choose_path()\n",
        "        if chosen_path == \"1\":\n",
        "            print(\"Nehre doğru koşuyorsunuz...\")\n",
        "            print(\"Aslan sizi yakaladı çünkü nehirde timsah var ve siz kararsız kaldınız.\")\n",
        "            print(\"Oyunu kaybettiniz.\")\n",
        "            return\n",
        "        elif chosen_path == \"2\":\n",
        "            print(\"Otoyola doğru koşuyorsunuz...\")\n",
        "            print(\"Neyse ki arabaları fark edince durdu.\")\n",
        "            print(\"Tebrikler! Aslandan kaçtınız ve hayatta kaldınız!\")\n",
        "            return\n",
        "    elif chosen_path == \"2\":\n",
        "        printAgacaTirmanisSecenekeleri()\n",
        "        chosen_path = choose_path()\n",
        "        if chosen_path == \"1\":\n",
        "            print(\"En yakın ağaça tırmanıyorsunuz...\")\n",
        "            print(\"Aslan sizi bekliyor ve sizi yakaladı.\")\n",
        "            print(\"Oyunu kaybettiniz.\")\n",
        "            return\n",
        "        elif chosen_path == \"2\":\n",
        "            print(\"Daha uzun ağaça tırmanıyorsunuz...\")\n",
        "            print(\"Aslan sizi bekliyor ama siz ağaçta güvenle duruyorsunuz.\")\n",
        "            print(\"Aslan pes etti ve gitti.\")\n",
        "            print(\"Tebrikler! Aslandan kaçtınız ve hayatta kaldınız!\")\n",
        "            return\n",
        "play_again = \"evet\"\n",
        "while play_again.lower() in [\"evet\", \"e\"]:\n",
        "    intro()\n",
        "    printSecenekler()\n",
        "    path_number = choose_path()\n",
        "    check_path(path_number)\n",
        "    play_again = input(\"Tekrar oynamak ister misiniz? (evet veya hayır): \")\n",
        "print(\"Oyunu oynadığınız için teşekkürler!\")\n"
      ],
      "metadata": {
        "id": "H04st55R_INT",
        "colab": {
          "base_uri": "https://localhost:8080/"
        },
        "outputId": "6b9418de-92a7-43e0-9ae0-2b25b8ae9dc3"
      },
      "execution_count": 11,
      "outputs": [
        {
          "output_type": "stream",
          "name": "stdout",
          "text": [
            "__________****************__________\n",
            "Aslanlardan Kaçış Oyunu'na Hoş Geldiniz!\n",
            "Bir ormanda mahsur kaldınız ve bir aslan ile karşılaştınız.\n",
            "Amacınız aslandan kaçmak ve hayatta kalmak.\n",
            "Ne yaprdınız\n",
            "__________****************__________\n",
            "1. Kaçardım\n",
            "2. Ağaça tırmanırdım\n",
            "Hangi yolu seçmek istersiniz? (1 veya 2): 1\n",
            "Kaçıyorsunuz...\n",
            "Aslan sizi kovalıyor...\n",
            "Ne tarafa doğru koşuyorsunuz?\n",
            "1. Nehre doğru koşardım\n",
            "2. Otoyola doğru koşardım\n",
            "Hangi yolu seçmek istersiniz? (1 veya 2): 2\n",
            "Otoyola doğru koşuyorsunuz...\n",
            "Neyse ki arabaları fark edince durdu.\n",
            "Tebrikler! Aslandan kaçtınız ve hayatta kaldınız!\n",
            "Tekrar oynamak ister misiniz? (evet veya hayır): e\n",
            "__________****************__________\n",
            "Aslanlardan Kaçış Oyunu'na Hoş Geldiniz!\n",
            "Bir ormanda mahsur kaldınız ve bir aslan ile karşılaştınız.\n",
            "Amacınız aslandan kaçmak ve hayatta kalmak.\n",
            "Ne yaprdınız\n",
            "__________****************__________\n",
            "1. Kaçardım\n",
            "2. Ağaça tırmanırdım\n",
            "Hangi yolu seçmek istersiniz? (1 veya 2): 2\n",
            "Ağaça tırmanmaya karar verdiniz...\n",
            "Hangi ağaça tırmanırdınız?\n",
            "1. En yakın ağaça tırmanırdım\n",
            "2. Biraz uzak ama daha uzun ağaça tırmanırdım\n",
            "Hangi yolu seçmek istersiniz? (1 veya 2): 2\n",
            "Daha uzun ağaça tırmanıyorsunuz...\n",
            "Aslan sizi bekliyor ama siz ağaçta güvenle duruyorsunuz.\n",
            "Aslan pes etti ve gitti.\n",
            "Tebrikler! Aslandan kaçtınız ve hayatta kaldınız!\n",
            "Tekrar oynamak ister misiniz? (evet veya hayır): h\n",
            "Oyunu oynadığınız için teşekkürler!\n"
          ]
        }
      ]
    },
    {
      "cell_type": "code",
      "metadata": {
        "colab": {
          "base_uri": "https://localhost:8080/"
        },
        "id": "9fde6302",
        "outputId": "f53b12be-9685-485e-c18e-6c26cc482dcc"
      },
      "source": [],
      "execution_count": 2,
      "outputs": [
        {
          "output_type": "stream",
          "name": "stdout",
          "text": [
            "Bir Sayı giriniz:ss\n",
            "Girdiğiniz değer sayı değil.\n"
          ]
        }
      ]
    }
  ]
}