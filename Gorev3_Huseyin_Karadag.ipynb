{
  "nbformat": 4,
  "nbformat_minor": 0,
  "metadata": {
    "colab": {
      "provenance": [],
      "include_colab_link": true
    },
    "kernelspec": {
      "name": "python3",
      "display_name": "Python 3"
    },
    "language_info": {
      "name": "python"
    }
  },
  "cells": [
    {
      "cell_type": "markdown",
      "metadata": {
        "id": "view-in-github",
        "colab_type": "text"
      },
      "source": [
        "<a href=\"https://colab.research.google.com/github/valihuseyin/AI_101/blob/main/Gorev3_Huseyin_Karadag.ipynb\" target=\"_parent\"><img src=\"https://colab.research.google.com/assets/colab-badge.svg\" alt=\"Open In Colab\"/></a>"
      ]
    },
    {
      "cell_type": "markdown",
      "source": [
        "**1- Bir listedeki isimlerin baş harflerini yazdıran uygulama**"
      ],
      "metadata": {
        "id": "FnLURgcIQ_Gi"
      }
    },
    {
      "cell_type": "code",
      "execution_count": 8,
      "metadata": {
        "id": "c0ib_9BUQbmp",
        "colab": {
          "base_uri": "https://localhost:8080/"
        },
        "outputId": "10a998b1-cac8-4465-9dc2-ab942f43a1c6"
      },
      "outputs": [
        {
          "output_type": "stream",
          "name": "stdout",
          "text": [
            "H\n",
            "Z\n",
            "A\n",
            "F\n",
            "A\n",
            "H\n",
            "M\n"
          ]
        }
      ],
      "source": [
        "isimler =[\"Hüseyin\", \"Zehra\", \"Alihan\", \"Fatma\", \"Ali\",\"Hatice\",\"Metehan\",\"Fatma\",\"Ali\"]\n",
        "for i in isimler:\n",
        "    print(i[0])"
      ]
    },
    {
      "cell_type": "markdown",
      "source": [
        "**2- \"Tamam\" ifadesini görene kadar bir şeyler yazmanı isteyen uygulama (while)** (opsiyonel)"
      ],
      "metadata": {
        "id": "qJwVk__lRAiR"
      }
    },
    {
      "cell_type": "code",
      "source": [
        "while True:\n",
        "    a = input(\"Bir şeyler yazın: \")\n",
        "    if 'tamam' in a.lower():\n",
        "        break"
      ],
      "metadata": {
        "id": "3wsm_xvxQ-ue",
        "colab": {
          "base_uri": "https://localhost:8080/"
        },
        "outputId": "94ef9921-a807-4e31-999a-87110ec2e874"
      },
      "execution_count": 1,
      "outputs": [
        {
          "name": "stdout",
          "output_type": "stream",
          "text": [
            "Bir şeyler yazın: huseyin\n",
            "Bir şeyler yazın: Tamam\n"
          ]
        }
      ]
    },
    {
      "cell_type": "markdown",
      "source": [
        "**3- Bir listedeki aynı isimleri teke indirecek bir uygulama** (set kullanmayın)"
      ],
      "metadata": {
        "id": "WWgcIT6uRCWe"
      }
    },
    {
      "cell_type": "code",
      "source": [
        "isimler =[\"Hüseyin\", \"Zehra\", \"Alihan\", \"Fatma\", \"Ali\",\"Hatice\",\"Metehan\",\"Fatma\",\"Ali\"]\n",
        "tek_isimler = []\n",
        "for i in isimler:\n",
        "    if i not in tek_isimler:\n",
        "        tek_isimler.append(i)\n",
        "print(tek_isimler)"
      ],
      "metadata": {
        "id": "pZCHhA43RFd6",
        "colab": {
          "base_uri": "https://localhost:8080/"
        },
        "outputId": "da46bc9f-f236-499f-9826-894ebdec15b2"
      },
      "execution_count": 2,
      "outputs": [
        {
          "output_type": "stream",
          "name": "stdout",
          "text": [
            "['Hüseyin', 'Zehra', 'Alihan', 'Fatma', 'Ali', 'Hatice', 'Metehan']\n"
          ]
        }
      ]
    },
    {
      "cell_type": "markdown",
      "source": [
        "**4- \"Tamam\" yazana kadar girdiğiniz kelimeleri, bir listeye ekleyen uygulama**"
      ],
      "metadata": {
        "id": "YVTCRlDHRFzA"
      }
    },
    {
      "cell_type": "code",
      "source": [
        "girdiler = []\n",
        "while True:\n",
        "    a = input(\"Bir şeyler yazın: \")\n",
        "    if 'tamam' in a.lower():\n",
        "        break\n",
        "    girdiler.append(a)\n",
        "\n",
        "print(girdiler)"
      ],
      "metadata": {
        "id": "NlQKoNLMRHM_",
        "colab": {
          "base_uri": "https://localhost:8080/"
        },
        "outputId": "f92c9e22-a868-44a3-e931-ee2110d12dc3"
      },
      "execution_count": 6,
      "outputs": [
        {
          "output_type": "stream",
          "name": "stdout",
          "text": [
            "Bir şeyler yazın: husyein karadag\n",
            "Bir şeyler yazın: Fbk\n",
            "Bir şeyler yazın: alihan tamam\n",
            "['husyein karadag', 'Fbk']\n"
          ]
        }
      ]
    },
    {
      "cell_type": "markdown",
      "source": [
        "**5- Bir listedeki sadece stringleri döndüren bir döngü oluşturun**"
      ],
      "metadata": {
        "id": "8_hXPZchRI87"
      }
    },
    {
      "cell_type": "code",
      "source": [
        "liste = [1,\"FBK\",2,\"huseyin\",3,'Char']\n",
        "for i in liste:\n",
        "    if type(i) == str:\n",
        "        print(i)\n"
      ],
      "metadata": {
        "id": "aWRMFwupRJcU",
        "colab": {
          "base_uri": "https://localhost:8080/"
        },
        "outputId": "ff8c5c2e-b2b2-4a70-f21e-b8dc58ef8b8d"
      },
      "execution_count": 8,
      "outputs": [
        {
          "output_type": "stream",
          "name": "stdout",
          "text": [
            "FBK\n",
            "huseyin\n",
            "Char\n"
          ]
        }
      ]
    },
    {
      "cell_type": "markdown",
      "source": [
        "**6- Liste şeklindeki Celsius değerlerin fahrenayt a çevirecek uygulama**"
      ],
      "metadata": {
        "id": "NAHNnt_yRLPO"
      }
    },
    {
      "cell_type": "code",
      "source": [
        "#Celsius to Fahrenheit\n",
        "celsius = [39.2, 36.5, 37.3, 37.8]\n",
        "fahrenheit = []\n",
        "for i in celsius:\n",
        "    fahrenheit.append((i*9/5)+32)\n",
        "print(fahrenheit)"
      ],
      "metadata": {
        "id": "oz-NbuPIRLxh",
        "colab": {
          "base_uri": "https://localhost:8080/"
        },
        "outputId": "28aa73c0-5c3e-4760-861b-99bcdc3af909"
      },
      "execution_count": 9,
      "outputs": [
        {
          "output_type": "stream",
          "name": "stdout",
          "text": [
            "[102.56, 97.7, 99.14, 100.03999999999999]\n"
          ]
        }
      ]
    },
    {
      "cell_type": "markdown",
      "source": [
        "**7 - Tahmin oyunu \"from random import randint\" randint(0, 100)**"
      ],
      "metadata": {
        "id": "uE4n65WoRMqU"
      }
    },
    {
      "cell_type": "code",
      "source": [
        "import random\n",
        "def guess_number_game():\n",
        "    number_to_guess = random.randint(0, 100)\n",
        "    attempts = 0\n",
        "    print(\"Welcome to the Number Guessing Game!\")\n",
        "    print(\"I'm thinking of a number between 0 and 100.\")\n",
        "    print(\"Try to guess it!\")\n",
        "    while True:\n",
        "      try:\n",
        "        guess = int(input(\"Guess a number between 0 and 100: \"))\n",
        "        attempts += 1\n",
        "        if guess < number_to_guess:\n",
        "            print(\"Too Low\")\n",
        "        elif guess > number_to_guess:\n",
        "            print(\"Too High\")\n",
        "        else:\n",
        "            print(f\"Congratulations! You guessed the number {number_to_guess} in {attempts} attempts.\")\n",
        "            break\n",
        "      except ValueError:\n",
        "            print(\"Please enter a valid integer between 1 and 100\")\n",
        "\n",
        "guess_number_game()\n",
        "\n",
        "\n"
      ],
      "metadata": {
        "id": "vdds-C0XRO5s",
        "colab": {
          "base_uri": "https://localhost:8080/"
        },
        "outputId": "ff1b2405-9152-48b5-f0fa-ad080a2bf49e"
      },
      "execution_count": 10,
      "outputs": [
        {
          "output_type": "stream",
          "name": "stdout",
          "text": [
            "Welcome to the Number Guessing Game!\n",
            "I'm thinking of a number between 0 and 100.\n",
            "Try to guess it!\n",
            "Guess a number between 0 and 100: 55\n",
            "Too High\n",
            "Guess a number between 0 and 100: 35\n",
            "Too Low\n",
            "Guess a number between 0 and 100: 45\n",
            "Too Low\n",
            "Guess a number between 0 and 100: 50\n",
            "Too High\n",
            "Guess a number between 0 and 100: 49\n",
            "Congratulations! You guessed the number 49 in 5 attempts.\n"
          ]
        }
      ]
    },
    {
      "cell_type": "markdown",
      "source": [
        "**8- 1 den 100 e kadar 3 er 3 er sayan uygulama**"
      ],
      "metadata": {
        "id": "QU6vfmZZZbhi"
      }
    },
    {
      "cell_type": "code",
      "source": [
        "for i in  range(0,101,3):\n",
        "    print(i)"
      ],
      "metadata": {
        "id": "bNXgOq1yZbvo",
        "colab": {
          "base_uri": "https://localhost:8080/"
        },
        "outputId": "77be94cf-34f5-4620-d149-0912a6a9d9f4"
      },
      "execution_count": 13,
      "outputs": [
        {
          "output_type": "stream",
          "name": "stdout",
          "text": [
            "0\n",
            "3\n",
            "6\n",
            "9\n",
            "12\n",
            "15\n",
            "18\n",
            "21\n",
            "24\n",
            "27\n",
            "30\n",
            "33\n",
            "36\n",
            "39\n",
            "42\n",
            "45\n",
            "48\n",
            "51\n",
            "54\n",
            "57\n",
            "60\n",
            "63\n",
            "66\n",
            "69\n",
            "72\n",
            "75\n",
            "78\n",
            "81\n",
            "84\n",
            "87\n",
            "90\n",
            "93\n",
            "96\n",
            "99\n"
          ]
        }
      ]
    },
    {
      "cell_type": "markdown",
      "source": [
        "**9- Girdiğiniz kelimedeki belirli harfleri yazdıran bir uygulama**"
      ],
      "metadata": {
        "id": "tCL2K59uZipA"
      }
    },
    {
      "cell_type": "code",
      "source": [
        "girilen_kelime = input(\"Bir kelime girin: \")\n",
        "belirli_harfler = \"FENERfener\"\n",
        "for harf in girilen_kelime:\n",
        "    if harf in belirli_harfler:\n",
        "        print(harf)\n"
      ],
      "metadata": {
        "id": "86xwHPXcZi4l",
        "colab": {
          "base_uri": "https://localhost:8080/"
        },
        "outputId": "3d8116d9-cd1c-420e-fac4-b0aa5d7ac866"
      },
      "execution_count": 15,
      "outputs": [
        {
          "output_type": "stream",
          "name": "stdout",
          "text": [
            "Bir kelime girin: Şampiyan FeneR\n",
            "n\n",
            "F\n",
            "e\n",
            "n\n",
            "e\n",
            "R\n"
          ]
        }
      ]
    }
  ]
}