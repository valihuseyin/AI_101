{
  "nbformat": 4,
  "nbformat_minor": 0,
  "metadata": {
    "colab": {
      "provenance": [],
      "authorship_tag": "ABX9TyN+0PAzhOKFXYVEca7xaOGb",
      "include_colab_link": true
    },
    "kernelspec": {
      "name": "python3",
      "display_name": "Python 3"
    },
    "language_info": {
      "name": "python"
    }
  },
  "cells": [
    {
      "cell_type": "markdown",
      "metadata": {
        "id": "view-in-github",
        "colab_type": "text"
      },
      "source": [
        "<a href=\"https://colab.research.google.com/github/valihuseyin/AI_101/blob/main/Python_String.ipynb\" target=\"_parent\"><img src=\"https://colab.research.google.com/assets/colab-badge.svg\" alt=\"Open In Colab\"/></a>"
      ]
    },
    {
      "cell_type": "code",
      "execution_count": 3,
      "metadata": {
        "colab": {
          "base_uri": "https://localhost:8080/"
        },
        "id": "N5HQkkEl-I9P",
        "outputId": "41b4bb80-f25e-47b8-bc39-6992f47ffea8"
      },
      "outputs": [
        {
          "output_type": "stream",
          "name": "stdout",
          "text": [
            "Huseyin Karadag\n",
            "Merhaba Huseyin\n",
            "Merhaba Karadag\n"
          ]
        }
      ],
      "source": [
        "#birleştirme\n",
        "a= \"Huseyin\"\n",
        "b=\"Karadag\"\n",
        "print(a + \" \" + b)\n",
        "#f modud ile gösterim\n",
        "print(f\"Merhaba {a}\")\n",
        "print(f'Merhaba {b}')"
      ]
    }
  ]
}